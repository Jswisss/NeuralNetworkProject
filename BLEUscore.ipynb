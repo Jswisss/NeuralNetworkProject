{
  "nbformat": 4,
  "nbformat_minor": 0,
  "metadata": {
    "colab": {
      "provenance": []
    },
    "kernelspec": {
      "name": "python3",
      "display_name": "Python 3"
    },
    "language_info": {
      "name": "python"
    }
  },
  "cells": [
    {
      "cell_type": "code",
      "execution_count": null,
      "metadata": {
        "colab": {
          "base_uri": "https://localhost:8080/"
        },
        "id": "QqI7PwJjrM1f",
        "outputId": "71fb01dd-9f1f-4be5-a202-4a3d5bf8d46e"
      },
      "outputs": [
        {
          "output_type": "stream",
          "name": "stdout",
          "text": [
            "   Unnamed: 0                                                 0  \\\n",
            "0           0                                    im going to go   \n",
            "1           1                        i hope to see you sometime   \n",
            "2           2  the train will arrive at the station before noon   \n",
            "\n",
            "                    1                                                  2  \n",
            "0             あとで行くね。  CC-BY 2.0 (France) Attribution: tatoeba.org #1...  \n",
            "1    またいつかお目にかかりましょう。  CC-BY 2.0 (France) Attribution: tatoeba.org #3...  \n",
            "2  その列車は正午前に駅に着くでしょう。  CC-BY 2.0 (France) Attribution: tatoeba.org #4...  \n",
            "{0: 1953, 0.3: 5, 0.7: 9, 0.5: 11, 0.2: 2, 0.4: 11, 0.6: 3, 1.0: 1, 0.8: 3, 0.1: 1, 0.9: 1}\n",
            "0.012150000000000003\n"
          ]
        },
        {
          "output_type": "stream",
          "name": "stderr",
          "text": [
            "/usr/local/lib/python3.10/dist-packages/nltk/translate/bleu_score.py:552: UserWarning: \n",
            "The hypothesis contains 0 counts of 2-gram overlaps.\n",
            "Therefore the BLEU score evaluates to 0, independently of\n",
            "how many N-gram overlaps of lower order it contains.\n",
            "Consider using lower n-gram order or use SmoothingFunction()\n",
            "  warnings.warn(_msg)\n",
            "/usr/local/lib/python3.10/dist-packages/nltk/translate/bleu_score.py:552: UserWarning: \n",
            "The hypothesis contains 0 counts of 3-gram overlaps.\n",
            "Therefore the BLEU score evaluates to 0, independently of\n",
            "how many N-gram overlaps of lower order it contains.\n",
            "Consider using lower n-gram order or use SmoothingFunction()\n",
            "  warnings.warn(_msg)\n",
            "/usr/local/lib/python3.10/dist-packages/nltk/translate/bleu_score.py:552: UserWarning: \n",
            "The hypothesis contains 0 counts of 4-gram overlaps.\n",
            "Therefore the BLEU score evaluates to 0, independently of\n",
            "how many N-gram overlaps of lower order it contains.\n",
            "Consider using lower n-gram order or use SmoothingFunction()\n",
            "  warnings.warn(_msg)\n"
          ]
        }
      ],
      "source": [
        "import nltk\n",
        "import pandas as pd\n",
        "from pathlib import Path\n",
        "from numpy import array\n",
        "pred = pd.read_csv(Path(\"exppred512jpn.csv\"))\n",
        "reference = pd.read_csv(Path(\"exptestsample512jpn.csv\"))\n",
        "pred_sample = pred['0']\n",
        "reference_sample = reference['0']\n",
        "print(reference[:3])\n",
        "array_pred = array(pred_sample)\n",
        "array_reference = array(reference_sample)\n",
        "\n",
        "import matplotlib.pyplot as plt\n",
        "bleu_score = [0] * 11\n",
        "bleu_dictorary = {}\n",
        "for i in range(len(array_pred)):\n",
        "  temp_score = round(nltk.translate.bleu_score.sentence_bleu([array_reference[i].split()], array_pred[i].split()),1)\n",
        "  bleu_score[int(temp_score*10)] = bleu_score[int(temp_score*10)] + 1\n",
        "  if temp_score in bleu_dictorary:\n",
        "    bleu_dictorary[temp_score] +=1\n",
        "  else:\n",
        "    bleu_dictorary[temp_score] =1\n",
        "\n",
        "total_sum = sum(key * count for key, count in bleu_dictorary.items())\n",
        "total_count = sum(bleu_dictorary.values())\n",
        "average = total_sum / total_count\n",
        "print(bleu_dictorary)\n",
        "print(average)"
      ]
    }
  ]
}